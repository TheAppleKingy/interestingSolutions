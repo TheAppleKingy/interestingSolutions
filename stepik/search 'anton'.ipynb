{
 "cells": [
  {
   "cell_type": "code",
   "execution_count": 2,
   "metadata": {},
   "outputs": [
    {
     "name": "stdout",
     "output_type": "stream",
     "text": [
      "1 2 7 8\n"
     ]
    }
   ],
   "source": [
    "#Искусственный интеллект Антон, созданный Гилфойлом, взломал сеть умных холодильников. \n",
    "#Теперь он использует их в качестве серверов \"Пегого дудочника\". Помогите владельцу фирмы отыскать все зараженные холодильники.\n",
    "#Для каждого холодильника существует строка с данными, состоящая из строчных букв и цифр, и если в ней присутствует слово \"anton\" \n",
    "#(необязательно рядом стоящие буквы, главное наличие последовательности букв), то холодильник заражен и нужно вывести номер холодильника,\n",
    "# нумерация начинается с единицы.\n",
    "\n",
    "#Формат входных данных В первой строке подаётся число n – количество холодильников. В последующих \n",
    "#n строках вводятся строки, содержащие латинские строчные буквы и цифры.\n",
    "\n",
    "#Формат выходных данных\n",
    "#Программа должна вывести номера зараженных холодильников через пробел. Если таких холодильников нет, ничего выводить не нужно\n",
    "n=int(input())\n",
    "A=[]\n",
    "for i in range(n):\n",
    "    A.append(input())\n",
    "n_s=[]\n",
    "for i in A:\n",
    "    count = 0\n",
    "    for j in range(len(i)):\n",
    "        if count == 0:\n",
    "            count += 1 if i[j] == 'a' else 0\n",
    "            continue\n",
    "        if count == 1:\n",
    "            count += 1 if i[j] == 'n' else 0\n",
    "            continue\n",
    "        if count == 2:\n",
    "            count += 1 if i[j] == 't' else 0\n",
    "            continue\n",
    "        if count == 3:\n",
    "            count += 1 if i[j] == 'o' else 0\n",
    "            continue\n",
    "        if count == 4:\n",
    "            count += 1 if i[j] == 'n' else 0\n",
    "            continue\n",
    "\n",
    "    if count == 5:\n",
    "        n_s.append(A.index(i) + 1)\n",
    "\n",
    "print(*n_s)\n",
    "        \n",
    "\n",
    "\n",
    "\n",
    "\n",
    "    \n"
   ]
  }
 ],
 "metadata": {
  "kernelspec": {
   "display_name": "Python 3",
   "language": "python",
   "name": "python3"
  },
  "language_info": {
   "codemirror_mode": {
    "name": "ipython",
    "version": 3
   },
   "file_extension": ".py",
   "mimetype": "text/x-python",
   "name": "python",
   "nbconvert_exporter": "python",
   "pygments_lexer": "ipython3",
   "version": "3.12.2"
  }
 },
 "nbformat": 4,
 "nbformat_minor": 2
}
