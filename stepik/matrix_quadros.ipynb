{
 "cells": [
  {
   "cell_type": "code",
   "execution_count": 4,
   "metadata": {},
   "outputs": [
    {
     "name": "stdout",
     "output_type": "stream",
     "text": [
      "7\n"
     ]
    }
   ],
   "source": [
    "n=int(input())\n",
    "elems=[]\n",
    "for i in range(n):\n",
    "    elems.append([int(i) for i in input().split()])\n",
    "sumleft=0\n",
    "sumright=0\n",
    "sumup=0\n",
    "sumdown=0\n",
    "for i in range(n):\n",
    "    for j in range(n):\n",
    "        if i>j and i<n-1-j:#left\n",
    "            sumleft+=elems[i][j]\n",
    "        elif i<j and i>n-1-j:#right\n",
    "            sumright+=elems[i][j]\n",
    "        elif i>j and i>n-1-j:#down\n",
    "            sumdown+=elems[i][j]\n",
    "        elif i<j and i<n-1-j:#up\n",
    "            sumup+=elems[i][j]\n",
    "print('Верхняя четверть:',sumup)\n",
    "print('Правая четверть:',sumright)\n",
    "print('Нижняя четверть:',sumdown)\n",
    "print('Левая четверть:',sumleft)\n"
   ]
  },
  {
   "cell_type": "code",
   "execution_count": 9,
   "metadata": {},
   "outputs": [
    {
     "data": {
      "text/plain": [
       "[[6], [9, 9, 8, 9, 8], [8, 8, 8, 8, 8], [8, 8, 8, 8, 8], [8, 8, 8, 8, 8]]"
      ]
     },
     "execution_count": 9,
     "metadata": {},
     "output_type": "execute_result"
    }
   ],
   "source": [
    "for i in range(n):\n",
    "    for j in range(n):\n",
    "        print(mat[i][j],end=' ')\n",
    "    print()\n",
    "sled=0\n",
    "for i in range(n):\n",
    "    for j in range(n):\n",
    "        if i==j:\n",
    "            sled+=mat[i][j]\n",
    "print(sled)"
   ]
  }
 ],
 "metadata": {
  "kernelspec": {
   "display_name": "Python 3",
   "language": "python",
   "name": "python3"
  },
  "language_info": {
   "codemirror_mode": {
    "name": "ipython",
    "version": 3
   },
   "file_extension": ".py",
   "mimetype": "text/x-python",
   "name": "python",
   "nbconvert_exporter": "python",
   "pygments_lexer": "ipython3",
   "version": "3.12.2"
  }
 },
 "nbformat": 4,
 "nbformat_minor": 2
}
