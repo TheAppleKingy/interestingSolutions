{
 "cells": [
  {
   "cell_type": "code",
   "execution_count": 10,
   "metadata": {},
   "outputs": [
    {
     "name": "stdout",
     "output_type": "stream",
     "text": [
      "age: 28\n",
      "first_name: Timur\n",
      "job: teacher\n",
      "last_name: Guev\n"
     ]
    }
   ],
   "source": [
    "def info_kwargs(**kwargs):\n",
    "    keys=sorted(kwargs.items())#если надо отсортировать словарь по значениям keys=sorted(kwargs.items(),key=lambda i: i[1])\n",
    "    for i in keys:\n",
    "        print(i[0]+':',i[1])\n",
    "info_kwargs(first_name='Timur', last_name='Guev', age=28, job='teacher')"
   ]
  }
 ],
 "metadata": {
  "kernelspec": {
   "display_name": "Python 3",
   "language": "python",
   "name": "python3"
  },
  "language_info": {
   "codemirror_mode": {
    "name": "ipython",
    "version": 3
   },
   "file_extension": ".py",
   "mimetype": "text/x-python",
   "name": "python",
   "nbconvert_exporter": "python",
   "pygments_lexer": "ipython3",
   "version": "3.12.4"
  }
 },
 "nbformat": 4,
 "nbformat_minor": 2
}
