{
 "cells": [
  {
   "cell_type": "code",
   "execution_count": 93,
   "metadata": {},
   "outputs": [
    {
     "name": "stdout",
     "output_type": "stream",
     "text": [
      ". . . . . . . . \n",
      ". . . . . . . . \n",
      ". . . . . . . . \n",
      ". . . . * . * . \n",
      ". . . * . . . * \n",
      ". . . . . N . . \n",
      ". . . * . . . * \n",
      ". . . . * . * . \n"
     ]
    }
   ],
   "source": [
    "coord=input()\n",
    "num=int(coord[1])-1\n",
    "syms='abcdefgh'\n",
    "symind=syms.index(coord[0])\n",
    "chessboard=[]\n",
    "for i in range(8,0,-1):\n",
    "    roww=[]\n",
    "    for j in range(8):\n",
    "        if (symind-j)*(num-i+1)==2 or (symind-j)*(num-i+1)==-2:\n",
    "            roww.append('*')\n",
    "        else:\n",
    "            roww.append('.')\n",
    "    chessboard.append(roww)\n",
    "chessboard[7-num][symind]='N'\n",
    "for i in range(8):\n",
    "    for j in range(8):\n",
    "        print(chessboard[i][j],end=' ')\n",
    "    print()\n",
    "            \n"
   ]
  },
  {
   "cell_type": "code",
   "execution_count": 28,
   "metadata": {},
   "outputs": [
    {
     "data": {
      "text/plain": [
       "4"
      ]
     },
     "execution_count": 28,
     "metadata": {},
     "output_type": "execute_result"
    }
   ],
   "source": [
    "n=int(input())\n",
    "m=int(input())\n",
    "mat=[]\n",
    "for i in range(n):\n",
    "    mat.append([int(i) for i in input().split()])\n",
    "maxis=max([max(i) for i in mat])\n",
    "maxis"
   ]
  }
 ],
 "metadata": {
  "kernelspec": {
   "display_name": "Python 3",
   "language": "python",
   "name": "python3"
  },
  "language_info": {
   "codemirror_mode": {
    "name": "ipython",
    "version": 3
   },
   "file_extension": ".py",
   "mimetype": "text/x-python",
   "name": "python",
   "nbconvert_exporter": "python",
   "pygments_lexer": "ipython3",
   "version": "3.12.2"
  }
 },
 "nbformat": 4,
 "nbformat_minor": 2
}
