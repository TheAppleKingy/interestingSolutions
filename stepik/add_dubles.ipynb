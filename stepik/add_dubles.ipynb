{
 "cells": [
  {
   "cell_type": "code",
   "execution_count": 2,
   "metadata": {},
   "outputs": [
    {
     "name": "stdout",
     "output_type": "stream",
     "text": [
      "[['a', 'a', 'a'], ['h'], ['i'], ['h'], ['i'], ['u', 'u', 'u']]\n"
     ]
    }
   ],
   "source": [
    "stroka=input()\n",
    "st=[]\n",
    "for i in stroka:\n",
    "    if i!=' ':\n",
    "        st.append(i)\n",
    "stroka=st\n",
    "result=[]\n",
    "a=[]\n",
    "for char in stroka:\n",
    "    if a==[]:\n",
    "        a.append(char)\n",
    "    else:\n",
    "        if a[-1]==char:\n",
    "            a.append(char)\n",
    "        else:\n",
    "            result.append(a)\n",
    "            a=[]\n",
    "            a.append(char)\n",
    "if a!=[]:\n",
    "    result.append(a)\n",
    "print(result)\n"
   ]
  },
  {
   "cell_type": "code",
   "execution_count": 27,
   "metadata": {},
   "outputs": [
    {
     "data": {
      "text/plain": [
       "['a', 'a', 'a']"
      ]
     },
     "execution_count": 27,
     "metadata": {},
     "output_type": "execute_result"
    }
   ],
   "source": [
    "p=list(['a']*3)\n",
    "p"
   ]
  }
 ],
 "metadata": {
  "kernelspec": {
   "display_name": "Python 3",
   "language": "python",
   "name": "python3"
  },
  "language_info": {
   "codemirror_mode": {
    "name": "ipython",
    "version": 3
   },
   "file_extension": ".py",
   "mimetype": "text/x-python",
   "name": "python",
   "nbconvert_exporter": "python",
   "pygments_lexer": "ipython3",
   "version": "3.12.2"
  }
 },
 "nbformat": 4,
 "nbformat_minor": 2
}
