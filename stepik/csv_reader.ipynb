{
 "cells": [
  {
   "cell_type": "code",
   "execution_count": null,
   "metadata": {},
   "outputs": [],
   "source": [
    "def read_csv():\n",
    "    with open(\"C:/Users/Ali/Downloads/data.csv\") as file:\n",
    "        b=list(map(lambda x: x.split(','),map(str.rstrip,file.readlines())))\n",
    "        print(b)\n",
    "        dicts=[]\n",
    "        keys=b[0]#ключи словарей\n",
    "        data=b[1:]      \n",
    "        print(data)#данные из файла(все кроме ключей)\n",
    "        for i in data:\n",
    "            items=[]\n",
    "            for j in range(len(i)):\n",
    "                items.append((keys[j],i[j]))\n",
    "            dicts.append(items)\n",
    "        print(dicts)\n",
    "        res=[dict(i) for i in dicts]\n",
    "        print(res)\n",
    "read_csv()"
   ]
  }
 ],
 "metadata": {
  "language_info": {
   "name": "python"
  }
 },
 "nbformat": 4,
 "nbformat_minor": 2
}
