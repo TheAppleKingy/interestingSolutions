{
 "cells": [
  {
   "cell_type": "code",
   "execution_count": 15,
   "metadata": {},
   "outputs": [
    {
     "name": "stdout",
     "output_type": "stream",
     "text": [
      "12 111 4 14 123 7 45 90 171 79\n"
     ]
    }
   ],
   "source": [
    "#На вход программе подается строка натуральных чисел. Из элементов строки формируется список чисел.\n",
    "#Напишите программу сортировки списка чисел в порядке неубывания суммы их цифр. При этом, если у двух чисел одинаковая сумма цифр, их следует вывести в порядке неубывания.\n",
    "nums=input().split()\n",
    "def numsum(num):\n",
    "    return sum(map(int,list(num)))\n",
    "print(*sorted(nums,key=lambda x: (sum(map(int,list(x))),int(x))))\n"
   ]
  }
 ],
 "metadata": {
  "kernelspec": {
   "display_name": "Python 3",
   "language": "python",
   "name": "python3"
  },
  "language_info": {
   "codemirror_mode": {
    "name": "ipython",
    "version": 3
   },
   "file_extension": ".py",
   "mimetype": "text/x-python",
   "name": "python",
   "nbconvert_exporter": "python",
   "pygments_lexer": "ipython3",
   "version": "3.12.4"
  }
 },
 "nbformat": 4,
 "nbformat_minor": 2
}
