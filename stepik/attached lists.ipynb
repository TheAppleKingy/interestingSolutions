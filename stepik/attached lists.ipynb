{
 "cells": [
  {
   "cell_type": "code",
   "execution_count": 37,
   "metadata": {},
   "outputs": [
    {
     "data": {
      "text/plain": [
       "[[], ['a'], ['b'], ['a', 'b']]"
      ]
     },
     "execution_count": 37,
     "metadata": {},
     "output_type": "execute_result"
    }
   ],
   "source": [
    "#На вход программе подается строка текста, содержащая символы. Из данной строки формируется список. \n",
    "#Напишите программу, которая выводит список, содержащий все возможные подсписки списка, включая пустой список.\n",
    "\n",
    "#Формат входных данных\n",
    "#На вход программе подается строка текста, содержащая символы, отделенные символом пробела\n",
    "\n",
    "#Формат выходных данных\n",
    "#Программа должна вывести указанный список, содержащий все возможные подсписки, включая пустой список в соответствии с примерами.\n",
    "\n",
    "#Sample Input 2:\n",
    "#a b v\n",
    "\n",
    "#Sample Output 2:\n",
    "#[[], ['a'], ['b'], ['v'], ['a', 'b'], ['b', 'v'], ['a', 'b', 'v']]\n",
    "stroka=input().split()\n",
    "res=[]\n",
    "m=1\n",
    "while m<len(stroka):\n",
    "    for i in range(len(stroka)):\n",
    "        if i+m<=len(stroka):\n",
    "            res.append(stroka[i:i+m])\n",
    "    m+=1\n",
    "res=[[]]+res+[stroka]\n",
    "print(res)\n",
    "        \n",
    "\n",
    "        \n",
    "\n"
   ]
  },
  {
   "cell_type": "code",
   "execution_count": 16,
   "metadata": {},
   "outputs": [
    {
     "data": {
      "text/plain": [
       "[['a', 'b'], ['b', 'c'], ['c', 'd']]"
      ]
     },
     "execution_count": 16,
     "metadata": {},
     "output_type": "execute_result"
    }
   ],
   "source": [
    "stroka=input().split()\n",
    "res=[]\n",
    "for i in range(len(stroka)-1):\n",
    "    res.append(stroka[i:i+2])\n",
    "res"
   ]
  },
  {
   "cell_type": "code",
   "execution_count": 2,
   "metadata": {},
   "outputs": [
    {
     "name": "stdout",
     "output_type": "stream",
     "text": [
      "200.9\n"
     ]
    }
   ],
   "source": [
    "import re\n",
    "str='3 товара за 200.99'\n",
    "pat=r'\\d+.\\d'\n",
    "match=re.search(pat,str)\n",
    "print(match.group())"
   ]
  },
  {
   "cell_type": "code",
   "execution_count": 4,
   "metadata": {},
   "outputs": [
    {
     "name": "stdout",
     "output_type": "stream",
     "text": [
      "101\n"
     ]
    }
   ],
   "source": [
    "n = 5\n",
    "a = [[19, 21, 33, 78, 99], \n",
    "     [41, 53, 66, 98, 76], \n",
    "     [79, 80, 90, 60, 20],\n",
    "     [33, 11, 45, 67, 90],\n",
    "     [45, 67, 12, 98, 23]]\n",
    "\n",
    "maximum = -1\n",
    "minimum = 100\n",
    "\n",
    "for i in range(n):\n",
    "    if a[i][i] > maximum:\n",
    "        maximum = a[i][i]\n",
    "    if a[i][n - i - 1] < minimum:\n",
    "        minimum = a[i][n - i - 1]\n",
    "\n",
    "print(minimum + maximum)"
   ]
  }
 ],
 "metadata": {
  "kernelspec": {
   "display_name": "Python 3",
   "language": "python",
   "name": "python3"
  },
  "language_info": {
   "codemirror_mode": {
    "name": "ipython",
    "version": 3
   },
   "file_extension": ".py",
   "mimetype": "text/x-python",
   "name": "python",
   "nbconvert_exporter": "python",
   "pygments_lexer": "ipython3",
   "version": "3.12.2"
  }
 },
 "nbformat": 4,
 "nbformat_minor": 2
}
