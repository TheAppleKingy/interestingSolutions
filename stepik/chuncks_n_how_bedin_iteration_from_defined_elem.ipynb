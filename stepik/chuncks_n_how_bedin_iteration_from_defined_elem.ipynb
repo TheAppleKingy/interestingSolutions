{
 "cells": [
  {
   "cell_type": "code",
   "execution_count": 34,
   "metadata": {},
   "outputs": [
    {
     "name": "stdout",
     "output_type": "stream",
     "text": [
      "[['a', 'b'], ['c', 'd'], ['e', 'f']]\n"
     ]
    }
   ],
   "source": [
    "stroka=input().split()\n",
    "n=int(input())\n",
    "result=[]\n",
    "p=[]\n",
    "k=0\n",
    "j=n\n",
    "while k<=len(stroka):\n",
    "    if j<=len(stroka):\n",
    "        for i in range(k,j,1):\n",
    "            p.append(stroka[i])\n",
    "        result.append(p)\n",
    "    j+=n\n",
    "    k+=n\n",
    "    p=[]\n",
    "ost=len(stroka)%n\n",
    "p=[]\n",
    "for i in range(len(stroka)-ost,len(stroka),1):\n",
    "    p.append(stroka[i])\n",
    "if p!=[]:\n",
    "    result.append(p)\n",
    "print(result)\n",
    "\n",
    "    \n",
    "    "
   ]
  },
  {
   "cell_type": "code",
   "execution_count": 24,
   "metadata": {},
   "outputs": [
    {
     "name": "stdout",
     "output_type": "stream",
     "text": [
      "1\n"
     ]
    }
   ],
   "source": [
    "print(5%2)"
   ]
  }
 ],
 "metadata": {
  "kernelspec": {
   "display_name": "Python 3",
   "language": "python",
   "name": "python3"
  },
  "language_info": {
   "codemirror_mode": {
    "name": "ipython",
    "version": 3
   },
   "file_extension": ".py",
   "mimetype": "text/x-python",
   "name": "python",
   "nbconvert_exporter": "python",
   "pygments_lexer": "ipython3",
   "version": "3.12.2"
  }
 },
 "nbformat": 4,
 "nbformat_minor": 2
}
