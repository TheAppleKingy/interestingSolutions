{
 "cells": [
  {
   "cell_type": "code",
   "execution_count": null,
   "metadata": {},
   "outputs": [],
   "source": [
    "import re\n",
    "import datetime\n",
    "with open('C:/Users/Ali/Downloads/logfile.txt',encoding='utf-8') as log, open('C:/Users/Ali/Downloads/output.txt','w') as out:\n",
    "    ent=re.sub(r'[, :]',' ',log.read()).split()\n",
    "    print(ent)\n",
    "    readible=[[f'{ent[i]} {ent[i+1]}',datetime.datetime(2000,1,1,int(ent[i+4]),int(ent[i+5]))-datetime.datetime(2000,1,1,int(ent[i+2]),int(ent[i+3]))] for i in range(0,len(ent),6)]#тут в каждом списке имя и разница между входом и выходом(время проведенное в сети)\n",
    "    print(readible)\n",
    "    res=list(filter(lambda x: x[1]>=datetime.timedelta(0,3600),readible))#выбрали только те, у кого разница между входом и выходом больше 1 часа(3600 секунд)\n",
    "    print(res)\n",
    "    for i in res:#записываем в файл\n",
    "       print(i[0],file=out)"
   ]
  }
 ],
 "metadata": {
  "language_info": {
   "name": "python"
  }
 },
 "nbformat": 4,
 "nbformat_minor": 2
}
