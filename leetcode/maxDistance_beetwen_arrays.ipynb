{
 "cells": [
  {
   "cell_type": "code",
   "execution_count": 29,
   "metadata": {},
   "outputs": [
    {
     "data": {
      "text/plain": [
       "0"
      ]
     },
     "execution_count": 29,
     "metadata": {},
     "output_type": "execute_result"
    }
   ],
   "source": [
    "class Solution(object):\n",
    "    @staticmethod\n",
    "    def maxDistance(arrays):\n",
    "        dists=[]\n",
    "        maxdist=0\n",
    "        for i in range(len(arrays)-1):\n",
    "            for j in range(i+1,len(arrays)):\n",
    "                for k in arrays[i]:\n",
    "                    for d in arrays[j]:\n",
    "                        dists.append(abs(d-k))\n",
    "        return max(dists)\n",
    "Solution().maxDistance([[1],[1]])\n"
   ]
  },
  {
   "cell_type": "code",
   "execution_count": 27,
   "metadata": {},
   "outputs": [
    {
     "data": {
      "text/plain": [
       "7"
      ]
     },
     "execution_count": 27,
     "metadata": {},
     "output_type": "execute_result"
    }
   ],
   "source": [
    "class Solution(object):#faster code version\n",
    "    \n",
    "    def maxDistance(self,arrays):\n",
    "        maxdist=0\n",
    "        biggest=arrays[0][-1]\n",
    "        smallest=arrays[0][0]\n",
    "        for i in range(1,len(arrays)):\n",
    "            maxdist=max(maxdist,abs(arrays[i][0]-biggest),abs(arrays[i][-1]-smallest))\n",
    "            biggest=max(biggest,arrays[i][-1])\n",
    "            smallest=min(smallest,arrays[i][0])\n",
    "        return maxdist\n",
    "                \n",
    "Solution().maxDistance([[1,2,3],[7,8],[4,5,6]])\n"
   ]
  }
 ],
 "metadata": {
  "kernelspec": {
   "display_name": "Python 3",
   "language": "python",
   "name": "python3"
  },
  "language_info": {
   "codemirror_mode": {
    "name": "ipython",
    "version": 3
   },
   "file_extension": ".py",
   "mimetype": "text/x-python",
   "name": "python",
   "nbconvert_exporter": "python",
   "pygments_lexer": "ipython3",
   "version": "3.12.4"
  }
 },
 "nbformat": 4,
 "nbformat_minor": 2
}
