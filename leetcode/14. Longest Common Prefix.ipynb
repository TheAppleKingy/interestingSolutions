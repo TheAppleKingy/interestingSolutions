{
 "cells": [
  {
   "cell_type": "code",
   "execution_count": 77,
   "metadata": {},
   "outputs": [
    {
     "data": {
      "text/plain": [
       "'fl'"
      ]
     },
     "execution_count": 77,
     "metadata": {},
     "output_type": "execute_result"
    }
   ],
   "source": [
    "class Solution(object):\n",
    "    @classmethod\n",
    "    def __startfrom(cls,pre,word):\n",
    "        if word.startswith(pre):\n",
    "            return True\n",
    "        else:\n",
    "            return False\n",
    "\n",
    "    def longestCommonPrefix(self, strs):\n",
    "        pref=''\n",
    "        starts=''\n",
    "        for j in strs[0]:\n",
    "            pref=pref+j\n",
    "            if all(self.__startfrom(pref,i) for i in strs):\n",
    "                starts=pref\n",
    "            else:\n",
    "                break\n",
    "        return starts\n",
    "Solution().longestCommonPrefix([\"flower\",\"flow\",\"flight\"])\n"
   ]
  },
  {
   "cell_type": "code",
   "execution_count": 74,
   "metadata": {},
   "outputs": [
    {
     "data": {
      "text/plain": [
       "['Asfas', 'Asfasf']"
      ]
     },
     "execution_count": 74,
     "metadata": {},
     "output_type": "execute_result"
    }
   ],
   "source": [
    "a=['asfas','asfasf']\n",
    "list(map(str.capitalize,a))"
   ]
  }
 ],
 "metadata": {
  "kernelspec": {
   "display_name": "Python 3",
   "language": "python",
   "name": "python3"
  },
  "language_info": {
   "codemirror_mode": {
    "name": "ipython",
    "version": 3
   },
   "file_extension": ".py",
   "mimetype": "text/x-python",
   "name": "python",
   "nbconvert_exporter": "python",
   "pygments_lexer": "ipython3",
   "version": "3.12.4"
  }
 },
 "nbformat": 4,
 "nbformat_minor": 2
}
