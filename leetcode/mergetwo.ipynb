{
 "cells": [
  {
   "cell_type": "code",
   "execution_count": 3,
   "metadata": {},
   "outputs": [
    {
     "data": {
      "text/plain": [
       "13"
      ]
     },
     "execution_count": 3,
     "metadata": {},
     "output_type": "execute_result"
    }
   ],
   "source": [
    "class Solution(object):\n",
    "    def maxPoints(self, points):\n",
    "        maxscore=max(points[0])\n",
    "        chosenpred=maxscore\n",
    "        for i in range(1,len(points)):\n",
    "            whichmore=[]\n",
    "            for j in range(len(points[i])):\n",
    "                whichmore.append((j,points[i][j],abs(j-points[i-1].index(chosenpred))))\n",
    "            mindif=max(whichmore,key=lambda x: abs(x[1]/x[2]) if x[2]!=0 else abs(x[1]/0.999))\n",
    "            maxscore+=mindif[1]-mindif[2]\n",
    "            points[i][mindif[0]]='here'\n",
    "            chosenpred='here'\n",
    "        return maxscore\n",
    "\n",
    "Solution().maxPoints([[5,2,1,2],[2,1,5,2],[5,5,5,0]])\n",
    "\n",
    "        "
   ]
  },
  {
   "cell_type": "code",
   "execution_count": 28,
   "metadata": {},
   "outputs": [
    {
     "data": {
      "text/plain": [
       "[(1, 2), 'sfd', (13, 12), (9, 8)]"
      ]
     },
     "execution_count": 28,
     "metadata": {},
     "output_type": "execute_result"
    }
   ],
   "source": [
    "a=[(1,2),(9,14),(13,12),(9,8)]\n",
    "a[1]='sfd'\n",
    "a\n",
    "2101358158754"
   ]
  }
 ],
 "metadata": {
  "kernelspec": {
   "display_name": "Python 3",
   "language": "python",
   "name": "python3"
  },
  "language_info": {
   "codemirror_mode": {
    "name": "ipython",
    "version": 3
   },
   "file_extension": ".py",
   "mimetype": "text/x-python",
   "name": "python",
   "nbconvert_exporter": "python",
   "pygments_lexer": "ipython3",
   "version": "3.12.4"
  }
 },
 "nbformat": 4,
 "nbformat_minor": 2
}
